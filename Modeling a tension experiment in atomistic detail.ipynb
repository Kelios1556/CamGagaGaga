{
 "cells": [
  {
   "cell_type": "markdown",
   "metadata": {
    "cell_id": "35510f069c434178a7a994a1f3229425",
    "deepnote_cell_type": "markdown",
    "slideshow": {
     "slide_type": "-"
    }
   },
   "source": [
    "# M3 Materials modelling: a tension experiment in atomistic detail\n",
    "## Part IB laboratory exercise\n",
    "\n",
    "2022, Engineering Laboratory, University of Cambridge, Dr. Burigede Liu (bl377) adapted from Prof. Gábor Csányi (gc121)"
   ]
  },
  {
   "cell_type": "markdown",
   "metadata": {
    "cell_id": "a02d172602024c45a98dc401c6990388",
    "deepnote_cell_height": 117.203125,
    "deepnote_cell_type": "markdown",
    "slideshow": {
     "slide_type": "-"
    }
   },
   "source": [
    "![bar](./files/copper-bar-zoom.png)"
   ]
  },
  {
   "cell_type": "markdown",
   "metadata": {
    "cell_id": "370bb7ce39314bbd9a61d27384ff2a9d",
    "deepnote_cell_type": "markdown",
    "slideshow": {
     "slide_type": "-"
    }
   },
   "source": [
    "In this exercise you will learn how to model materials on the _atomic scale_, and use the model to investigate how metals respond under tensile stress. Simulating the response in such detail will allow you an insight into what happens on the smallest scales when a material is under load, how the Poisson ratio arises. At the end of the exrcise, you will see an example of how dislocations are generated and interact, which is the basis for the plastic response of the material. Large scale plasticity is of course more complicated, and depends on the interactions of an immense number of dislocations as well as grain boundaries and more rigid inclusions. \n",
    "\n",
    "In the course of the exercise, you will:\n",
    "\n",
    "1. Create and manipulate atomic scale structural models of crystalline matter\n",
    "1. Learn how to compute simple elastic properties of single crystal copper (Cu)\n",
    "1. Observe a strain controlled tensile test simulation of a notched bar, and the nucleation of dislocations\n",
    "\n",
    "This activity introduces you to _scientific computing_, the use of programming and numerical techniques to model, investigate and learn about a technical subject, in this case materials engineering. There is no extended programming required, and no significant software engineering skills introduced, beyond close reading of documentation. \n",
    "\n",
    "## Working on your own\n",
    "\n",
    "This is a purely computational laboratory exercise, with no assigned laboratory time. You will be working on your own, but there is a forum on Moodle where you can get guidance and help if you have any technical questions or if you get stuck. It is monitored daily by demonstrators, especially between 2-3pm.\n",
    "\n",
    "The [assigned times](https://deepnote.com/project/IB-Laboratory-M3-Materials-modelling-AqUdtvyXQVG1F2SCyP33lA/%2FM3_lab_schedule_Mich.pdf) in the rota are for *marking*, and serve as __deadlines__. You are encouraged to not leave things to the last minute, and you can get marked up for this lab at the DPO helpdesk any time before the deadline assigned to your lab group. \n",
    "\n",
    "\n",
    "## Software Environment\n",
    "\n",
    "You will be using a python package called [Atomic Simulation Environment](https://gitlab.com/ase/ase) (ASE), which you will need to download if you want to run this notebook on your own computer. It has excellent tutorials at its [documentation page](https://wiki.fysik.dtu.dk/ase/), but the first few exercises below will teach you many of the elements of ASE you will need for this project. If running on your own computer, also try to install the ```matscipy``` package (which needs a working C++ compiler), if that is successful your simulations will be much faster. \n",
    "\n",
    "The entire exercise (appart from the optional extension) can be completed in Deepnote directly. All the dependancies are installed. If you want to use your own Python environment on your own computer such as [Anaconda](http://anaconda.org), this is also feasible, but requires the installation of a few packages. Deepnote also lets you install any additional desired pacakged. You can open a text terminal (console) to the virtual machine it is running on, so you can execute all the ! commands directly on the console. \n",
    "\n",
    "The ```!pip install ase``` and ```!pip install matscipy``` commands also work in an ```anaconda``` Python console or a Jupyter notebook that is running on your own computer, or without the \"!\" in a normal command terminal. \n",
    "\n",
    "_Note: There are several files associated with this notebook, both images and python code (e.g. Morse.py), make sure they are in the same folder as this notebook._\n",
    "\n",
    "_There is also a Morse module inside ASE (under ```ase.calculators```), but that is not implemented correctly (at the time of writing), so make sure below that you import the one that is supplied here and saved in the current directory._\n",
    "\n",
    "Please make sure all your results (eg. plots, code output) are visible before the marking session. This is much easier if you run a notebook rather than  individual scripts. \n",
    "\n",
    "##### Notes for various operating systems\n",
    "\n",
    "* On Mac OS, it is recommended that you do not work with the Python supplied by Apple, but get your own, e.g. Anaconda, or use Homebrew. \n",
    "\n",
    "* On Windows, you will need MS Visual C++ in order to use the matscipy package (MSVC++ version 14 for use with Python versions > 3.5). Windows is difficult from the point of view of scientific computing, and you may not be able to install matscipy in the end. The lab can be done without it. \n",
    "\n",
    "* If you are working on the Linux workstations in the Department,  see [this page](http://www-h.eng.cam.ac.uk/help/languages/python/pythonatcued.html) on how to install new Python packages for yourself.  \n",
    "\n",
    "## Software Engineering\n",
    "\n",
    "Much of this lab is about the *application* of programming in order to model engineering problem, rather than learning new programming skills. Use the techniques that you learned in the [Part IA Lent Computing Exercise](http://cued-partia-flood-warning.readthedocs.io/en/latest/index.html), and review them before you start if necessary. In particular:\n",
    "\n",
    "- The first half of the exercise is to be done in this notebook right here.  \n",
    "- Please use Python 3 rather than earlier versions.\n",
    "- Keep to the good code documentation practices you learned in Part IA.\n",
    "\n",
    "It will be assumed from now on that you know how to use these tools. \n",
    "\n",
    "\n",
    "## Materials and structural engineering\n",
    "\n",
    "Since the topic of this exercise is the response of matter to loading, it will be beneficial if you review the related concepts in the IA Materials and Structures courses, particularly on _stress_, _strain_, _bulk modulus_, _shear modulus_, _Poisson ratio_, and _dislocations_."
   ]
  },
  {
   "cell_type": "markdown",
   "metadata": {
    "cell_id": "c5546c781e004a7c806700d9eb228c5d",
    "deepnote_cell_height": 3366.390625,
    "deepnote_cell_type": "markdown"
   },
   "source": [
    "## Learning objectives and assessment\n",
    "\n",
    "### Learning objectives\n",
    "\n",
    "\n",
    "#### Scientific Computing\n",
    "\n",
    "- Making connections between abstract concepts of elastic deformation and numerical representations in a compute model\n",
    "- Ability to calculate elastic properties of materials numerically using an atomistic model\n",
    "- Identifying atomic scale processes underlying plastic deformation via dislocation nucleation and glide \n",
    "\n",
    "#### Computer skills\n",
    "\n",
    "- Effective use of python programming, as developed in Part IA\n",
    "- Appropriate use of NumPy arrays, functions, Python classes, class members and member functions. \n",
    "\n",
    "\n",
    "### Assessment guidelines\n",
    "\n",
    "The following criteria will be used in assessing your implementation. Markers will want to view your Notebook for the graphs, elasticity calculations and hear your interpretation of the results.\n",
    "\n",
    "Your Notebook should display an understanding of the basic aspects of materials engineering involved. Your results should have the correct units, plots have axes correctly labeled. \n",
    "\n",
    "#### Code\n",
    "\n",
    "- Your notebook and programs should execute without error.\n",
    "- Programs should be correct and achieve the specified deliverables.\n",
    "- Numerical results should be printed with notes on what they represent, and appropriate units. \n",
    "- Clarity and structure of the code implementations.\n",
    "- Re-use of functions and python objects where appropriate.\n",
    "- Documentation of your functions, and comments in the Notebook and standalone code to enhance readability\n"
   ]
  },
  {
   "cell_type": "markdown",
   "metadata": {
    "cell_id": "bc516655618943c6a45a681e6b3a890a",
    "deepnote_cell_height": 567.15625,
    "deepnote_cell_type": "markdown"
   },
   "source": [
    "## Deliverables and Deadlines\n",
    "\n",
    "The rest of this notebook contains background information that you need to understand the exercise, bits of example code that teaches you how to use the ASE package, and __specific deliverables (marked in bold)__ that you need to present to the markers. "
   ]
  },
  {
   "cell_type": "markdown",
   "metadata": {
    "cell_id": "a832671ccaa94f24975b876f6ed91a78",
    "deepnote_cell_height": 948.328125,
    "deepnote_cell_type": "markdown"
   },
   "source": [
    "We start with basic usage of ASE, computation of the elastic properties of a single crystal of copper. Do the tasks right here in this notebook. Bring the completed notebook to the a marking session. Do the exercise in your own time, but make sure you get marked by the demonstrators in the DPO by your allocated deadline, which is given for your lab group in the rota. There is a list of marking dates and times [here](https://deepnote.com/project/IB-Laboratory-M3-Materials-modelling-AqUdtvyXQVG1F2SCyP33lA/%2FM3_schedule_Lent.pdf), but these are just the final deadlines, you can get marked ahead of time by emailing the demonstrators, found on the Moodle page. "
   ]
  },
  {
   "cell_type": "markdown",
   "metadata": {
    "cell_id": "51d3c8732e4541bbaf36eb90af85e4e7",
    "deepnote_cell_height": 2132.484375,
    "deepnote_cell_type": "markdown"
   },
   "source": [
    "### Task 1\n",
    "\n",
    "You are going to use a simple model to describe the interaction of atoms, called the \"Morse potential\", \n",
    "which assumes that atoms interact with each other pairwise, and the total potential energy of a collection of atoms is\n",
    "\n",
    "$$\n",
    "E_{total} = \\sum_{i > j} V_{M}(r_{ij})\n",
    "$$\n",
    "\n",
    "where the double sum runs over the indices of every pair of atoms (counting every pair only once), $r_{ij}$ is the distance between atoms $i$ and $j$, and the _interaction potential_ is given by\n",
    "\n",
    "$$\n",
    "V_{M}(r) = D \\left[e^{-2\\alpha (r-r_0))} - 2e^{-\\alpha (r-r_0))} \\right]\n",
    "$$\n",
    "\n",
    "There are three adjustable parameters in this model. You can think of $D$ as fixing the energy scale of the model, $r_0$ as fixing the distance between neighbouring atoms, and $\\alpha$ as fixing the length scale over which the interaction between atoms decays (in inverse length units). \n",
    "\n",
    "In the small scale world of atoms, it is convenient to measure energies in _electron Volts_ (eV), with 1 eV $\\approx 1.6 \\times 10^{-19}~$J, and distances in _Ångstroms_ (Å), with 1 Å = $10^{-10}~$m, and these are the intrinsic units of ASE. All other derived units follow from this, e.g. forces are in eV/Å, stresses are in eV/Å$^3$. ASE provides the constant ```GPa``` that can be used to convert pressures and stresses from eV/Å$^3$ into GPa units. "
   ]
  },
  {
   "cell_type": "markdown",
   "metadata": {
    "cell_id": "d7baab5a7604462eb1adca41571096a7",
    "deepnote_cell_height": 209.1875,
    "deepnote_cell_type": "markdown"
   },
   "source": [
    "Here is how to create an object that represents just two copper atoms with a distance 2.5 Å between them:"
   ]
  },
  {
   "cell_type": "code",
   "execution_count": 1,
   "metadata": {
    "cell_id": "58c2c4e16e684e5592a20c6a3b70f473",
    "deepnote_cell_type": "code",
    "deepnote_to_be_reexecuted": false,
    "execution_millis": 124,
    "execution_start": 1698544908919,
    "output_cleared": false,
    "source_hash": null
   },
   "outputs": [],
   "source": [
    "from __future__ import print_function\n",
    "import numpy as np\n",
    "from ase import Atoms\n",
    "from ase.units import eV, Ang, GPa\n",
    "d = 2.5*Ang\n",
    "a = Atoms('2Cu', positions=[(0., 0., 0.), (0., 0., d)])"
   ]
  },
  {
   "cell_type": "markdown",
   "metadata": {
    "cell_id": "2cda3604a36c4589b721667fec3bc837",
    "deepnote_cell_height": 186.78125,
    "deepnote_cell_type": "markdown"
   },
   "source": [
    "The ```positions``` array contains the x, y, z coordinates of each atom, in that order. "
   ]
  },
  {
   "cell_type": "markdown",
   "metadata": {
    "cell_id": "2c66e5762e6a406c8977c137eb373518",
    "deepnote_cell_height": 522.765625,
    "deepnote_cell_type": "markdown"
   },
   "source": [
    "Now attach a ```calculator``` (ASE-speak for a model that can compute energies, forces and stresses on atoms) to this object, and compute its potential energy. (Any time you create a new atoms object, you need to set its calculator, but you can reuse the same calculator object)"
   ]
  },
  {
   "cell_type": "code",
   "execution_count": 2,
   "metadata": {
    "cell_id": "b9ee24aed46d4f909b2bfa99846607b8",
    "deepnote_cell_type": "code",
    "deepnote_to_be_reexecuted": false,
    "execution_millis": 53,
    "execution_start": 1612190874674,
    "output_cleared": false,
    "source_hash": null
   },
   "outputs": [
    {
     "data": {
      "text/plain": [
       "-0.14929402163819286"
      ]
     },
     "execution_count": 2,
     "metadata": {},
     "output_type": "execute_result"
    }
   ],
   "source": [
    "import sys\n",
    "sys.path.append(r'files')\n",
    "import Morse\n",
    "calc = Morse.MorsePotential()\n",
    "\n",
    "a.set_calculator(calc) \n",
    "a.get_potential_energy()"
   ]
  },
  {
   "cell_type": "markdown",
   "metadata": {
    "cell_id": "46ebb6f0b5ac4b20a569a89592acee4d",
    "deepnote_cell_height": 231.578125,
    "deepnote_cell_type": "markdown"
   },
   "source": [
    "Changing the position of the second atom allows the evaluation of the potential energy as a function of distance"
   ]
  },
  {
   "cell_type": "code",
   "execution_count": 3,
   "metadata": {
    "cell_id": "49b1258fb0dd4b858956e1b78fc1a0cd",
    "deepnote_cell_height": 156,
    "deepnote_cell_type": "code",
    "deepnote_output_heights": [
     39.390625
    ],
    "output_cleared": false
   },
   "outputs": [
    {
     "data": {
      "text/plain": [
       "array([[0. , 0. , 0. ],\n",
       "       [0. , 0. , 2.5]])"
      ]
     },
     "execution_count": 3,
     "metadata": {},
     "output_type": "execute_result"
    }
   ],
   "source": [
    "p = a.get_positions()\n",
    "p"
   ]
  },
  {
   "cell_type": "code",
   "execution_count": 4,
   "metadata": {
    "cell_id": "73fd857302a443499b7da7abe1c37d43",
    "deepnote_cell_height": 156,
    "deepnote_cell_type": "code",
    "deepnote_output_heights": [
     39.390625
    ],
    "output_cleared": false
   },
   "outputs": [
    {
     "data": {
      "text/plain": [
       "array([[0. , 0. , 0. ],\n",
       "       [0. , 0. , 2.8]])"
      ]
     },
     "execution_count": 4,
     "metadata": {},
     "output_type": "execute_result"
    }
   ],
   "source": [
    "p[1,2] = 2.8\n",
    "p"
   ]
  },
  {
   "cell_type": "code",
   "execution_count": 5,
   "metadata": {
    "cell_id": "a65eef3d58f24cdfb87522745109393b",
    "deepnote_cell_height": 136,
    "deepnote_cell_type": "code",
    "deepnote_output_heights": [
     20.1875
    ],
    "output_cleared": false
   },
   "outputs": [
    {
     "data": {
      "text/plain": [
       "-0.1451042133708922"
      ]
     },
     "execution_count": 5,
     "metadata": {},
     "output_type": "execute_result"
    }
   ],
   "source": [
    "a.set_positions(p)\n",
    "a.get_potential_energy()"
   ]
  },
  {
   "cell_type": "markdown",
   "metadata": {
    "cell_id": "899d3ed64f7b4a759649fb96a6d65e0a",
    "deepnote_cell_height": 186.78125,
    "deepnote_cell_type": "markdown"
   },
   "source": [
    "You can also manipulate the positions of the atoms directly by access the array inside the ```Atoms``` object:"
   ]
  },
  {
   "cell_type": "code",
   "execution_count": 6,
   "metadata": {
    "cell_id": "725e8688c1264633a27ddda8c05bc259",
    "deepnote_cell_height": 156,
    "deepnote_cell_type": "code",
    "deepnote_output_heights": [
     39.390625
    ],
    "output_cleared": false
   },
   "outputs": [
    {
     "data": {
      "text/plain": [
       "array([[0. , 0. , 0. ],\n",
       "       [0. , 0. , 2.9]])"
      ]
     },
     "execution_count": 6,
     "metadata": {},
     "output_type": "execute_result"
    }
   ],
   "source": [
    "a.positions[1,2] = 2.9\n",
    "a.get_positions()"
   ]
  },
  {
   "cell_type": "markdown",
   "metadata": {
    "cell_id": "232023e4ceb5468bb99413aaba3c597e",
    "deepnote_cell_height": 522.765625,
    "deepnote_cell_type": "markdown"
   },
   "source": [
    "The forces exerted by the atoms on one another can be obtained analogously. Remember that the force is the negative of the 3-dimensional gradient vector of the potential energy. (But there is no directly accessible array in the ```Atoms``` object that holds the forces, you have to use the function call)"
   ]
  },
  {
   "cell_type": "code",
   "execution_count": 7,
   "metadata": {
    "cell_id": "5e5ffe0b7a4b46e1aa467707df4a2cf8",
    "deepnote_cell_height": 156,
    "deepnote_cell_type": "code",
    "deepnote_output_heights": [
     39.390625
    ],
    "output_cleared": false
   },
   "outputs": [
    {
     "data": {
      "text/plain": [
       "array([[ 0.        ,  0.        ,  0.16719099],\n",
       "       [ 0.        ,  0.        , -0.16719099]])"
      ]
     },
     "execution_count": 7,
     "metadata": {},
     "output_type": "execute_result"
    }
   ],
   "source": [
    "f = a.get_forces()\n",
    "f"
   ]
  },
  {
   "cell_type": "markdown",
   "metadata": {
    "cell_id": "8d632bae3cb2481585ec9f9d3c364dd3",
    "deepnote_cell_height": 1194.125,
    "deepnote_cell_type": "markdown"
   },
   "source": [
    "### Deliverable 1\n",
    "\n",
    "Write a function that computes the Morse potential energy for two atoms for a given distance between them, and use it to:\n",
    "1. __Create a plot of the energy against distance. Now do the same for the the force exerted by one atom on the other.__\n",
    "\n",
    "2. __What is the distance between the two atoms corresponding to the lowest potential energy ?__\n",
    "\n",
    "Hint: You can create an array of distances, and for each one create the Atoms object and compute the potential energy and forces. Make sure to use a sensible range of distances - if atoms are too close, the plot will be dominated by the repulsive interaction. "
   ]
  },
  {
   "cell_type": "code",
   "execution_count": 65,
   "metadata": {},
   "outputs": [
    {
     "name": "stdout",
     "output_type": "stream",
     "text": [
      "distance for lowest potential energy:  2.6262626262626263\n"
     ]
    },
    {
     "data": {
      "image/png": "[encoded data removed]",
      "text/plain": [
       "<Figure size 640x480 with 2 Axes>"
      ]
     },
     "metadata": {},
     "output_type": "display_data"
    }
   ],
   "source": [
    "import matplotlib.pyplot as plt\n",
    "import numpy as np\n",
    "from ase import Atoms\n",
    "from ase.units import eV, Ang, GPa\n",
    "\n",
    "import sys\n",
    "sys.path.append(r'files')\n",
    "import Morse\n",
    "calc = Morse.MorsePotential()\n",
    "\n",
    "energy = np.array([])\n",
    "force = np.array([])\n",
    "\n",
    "dis = np.linspace(2.5, 5, 100)*Ang\n",
    "min = 0\n",
    "min_d = 2.5*Ang\n",
    "a = Atoms('2Cu', positions=[(0., 0., 0.), (0., 0., 0.)])\n",
    "a.set_calculator(calc)\n",
    "for i in range(dis.size):\n",
    "    d = dis[i]\n",
    "    a.positions[1,2] = d\n",
    "    energy = np.append(energy, a.get_potential_energy())\n",
    "    force = np.append(force, a.get_forces()[0, 2])\n",
    "    if a.get_potential_energy() < min:\n",
    "        min = a.get_potential_energy()\n",
    "        dmin = d\n",
    "        \n",
    "print(\"distance for lowest potential energy: \", dmin)\n",
    "\n",
    "fig, ax = plt.subplots(2)\n",
    "ax[0].plot(dis, energy)\n",
    "ax[0].set(xlabel='Distance', ylabel='Energy')\n",
    "ax[0].grid()\n",
    "ax[1].plot(dis, force)\n",
    "ax[1].set(xlabel='Distance', ylabel='Force')\n",
    "ax[1].grid()\n"
   ]
  },
  {
   "cell_type": "markdown",
   "metadata": {
    "cell_id": "0d5b65a9c2c54ca98a5ef4b6c1d3aedf",
    "deepnote_cell_height": 1296.71875,
    "deepnote_cell_type": "markdown"
   },
   "source": [
    "### Task and Deliverable 2 \n",
    "\n",
    "1. __Write a _unit test_ that verifies that the forces returned by the ```get_forces()``` function is really the negative gradient of the energy (as returned by the ```get_potential_energy()``` function) with respect to the atomic positions. Do this by comparing the forces returned by ```get_forces()``` to those obtained by numerical finite differences of energies between two sets of atomic positions, displaced by small amount.__\n",
    "\n",
    "2. __Experiment with different values of $\\epsilon$ and look at how accurate the approximation is as a function of $\\epsilon$.__\n",
    "\n",
    "3. __What goes wrong if you make $\\epsilon$ too small?__"
   ]
  },
  {
   "cell_type": "markdown",
   "metadata": {
    "cell_id": "d26f1aaf68af4347b281f91ef5c137f2",
    "deepnote_cell_height": 1215.90625,
    "deepnote_cell_type": "markdown"
   },
   "source": [
    "Hint:\n",
    "\n",
    "Use the idea of the definition of the gradient and its relation to the Taylor expansion:\n",
    "\n",
    "$$\n",
    "\\nabla f(x) \\approx \\frac{f(x+\\epsilon)-f(x)}{\\epsilon}\n",
    "$$\n",
    "\n",
    "With just two atoms in the \"system\", you can treat the energy and force as just functions of a scalar variable, the distance between the two atoms. More generally, both the energy and the forces are functions of many atomic coordinates, which we can collect into a vector $\\bf{R}$, so the truncated Taylor expansion takes the form:\n",
    "\n",
    "$$\n",
    "\\nabla f({\\bf R})\\cdot {\\bf d} \\approx \\frac{f ({\\bf R}+\\epsilon {\\bf d} )-f({\\bf R})}{\\epsilon}\n",
    "$$\n",
    "\n",
    "where ${\\bf d}$ is the vector representing a small displacement. \n",
    "\n",
    "A graph is a good way to examine how the size of epsilon translates to the accuracy (error) of the approximation.\n"
   ]
  },
  {
   "cell_type": "code",
   "execution_count": 149,
   "metadata": {},
   "outputs": [
    {
     "name": "stdout",
     "output_type": "stream",
     "text": [
      "[[ 0.          0.         -0.23764474]\n",
      " [ 0.          0.          0.23764474]]\n"
     ]
    },
    {
     "data": {
      "image/png": "[encoded data removed]",
      "text/plain": [
       "<Figure size 640x480 with 2 Axes>"
      ]
     },
     "metadata": {},
     "output_type": "display_data"
    }
   ],
   "source": [
    "# run previous cell first\n",
    "a = Atoms('2Cu', positions=[(0., 0., 0.), (0., 0., 0.)])\n",
    "a.set_calculator(calc)\n",
    "\n",
    "grad = np.array([])\n",
    "force = np.array([])\n",
    "interval = 10**np.linspace(2, 5, 100)\n",
    "interval_s = 10**np.linspace(10, 13, 500)\n",
    "interval = np.append(interval, interval_s)\n",
    "for inter in interval:\n",
    "    a.positions[1,2] = 2.5*Ang\n",
    "    e, f = a.get_potential_energy(), a.get_forces()[0, 2]\n",
    "    a.positions[1,2] = 2.5*Ang + Ang / inter\n",
    "    gr = (a.get_potential_energy() - e) /(Ang / inter)\n",
    "    force = np.append(force, f)\n",
    "    grad = np.append(grad, gr)\n",
    "\n",
    "print(a.get_forces())\n",
    "fig, ax1 = plt.subplots()\n",
    "ax1.set_xlabel('1/epsilon')\n",
    "ax1.set_ylabel('force (red)')\n",
    "ax1.plot(interval, force, color='red')\n",
    "ax2 = ax1.twinx()\n",
    "ax2.set_ylabel('grad (green)')\n",
    "ax2.plot(interval, grad, color='green')\n",
    "\n",
    "ax1.set_ylim(np.min(grad)*0.9, np.max(grad)*1.1)\n",
    "ax2.set_ylim(np.min(grad)*0.9, np.max(grad)*1.1)\n",
    "\n",
    "plt.grid()\n",
    "plt.show()\n"
   ]
  },
  {
   "cell_type": "markdown",
   "metadata": {
    "cell_id": "b42ca76f9f4049fea7d9d4b554a6d984",
    "deepnote_cell_height": 2547.421875,
    "deepnote_cell_type": "markdown"
   },
   "source": [
    "### Task 3\n",
    "\n",
    "_Create a cubic unit cell of the Cu crystal, and extract some of its properties._\n",
    "\n",
    "In order to investigate the properties of bulk copper, we need to model a large number of atoms. But evaluating the total potential energy of a large number of atoms takes a long time, and so we need a shortcut. In fact many simple properties of a crystalline solid can be evaluated by just considering its _unit cell_, i.e. the smallest repeating unit from which the crystal is made. This is typically true for static properties that do not depend on atoms experiencing a variety of neighbour environments, i.e. in the absence of _defects_. Such properties include the _lattice constant_ (i.e. the density), the _equation of state_, the _elastic constants_ (including the _bulk modulus_), the _Poisson ratio_, etc. \n",
    "\n",
    "The trick is to _assume_ that the atoms are arranged in perfect crystalline order, and only explicitly consider those atoms that are in a single unit cell. In order to correctly evaluate the energy, the _effect_ of atoms in neighbouring unit cells needs to be included, but this can be done by using [_periodic boundary conditions_](https://en.wikipedia.org/wiki/Periodic_boundary_conditions). The page behind the link is rather detailed, but think about the Fourier Series from IA maths, which was applicable to periodic functions, but you only ever had to consider the function values over a single period. This is similar. \n",
    "\n",
    "In the image below, the blue shaded area is the unit cell, its sides are the lattice vectors that generate the periodic images. "
   ]
  },
  {
   "cell_type": "markdown",
   "metadata": {
    "cell_id": "8450a803505a4e3ca915513e37dc4c18",
    "deepnote_cell_height": 70,
    "deepnote_cell_type": "markdown"
   },
   "source": [
    "![Periodic cells](./files/unitcell2.png)"
   ]
  },
  {
   "cell_type": "markdown",
   "metadata": {
    "cell_id": "b978f9a8f8a34342ac486116dca544f1",
    "deepnote_cell_height": 343.578125,
    "deepnote_cell_type": "markdown"
   },
   "source": [
    "More complicated properties, such as the _yield stress_, or those of more complicated materials such as _polycrystalline solids_ cannot be extracted from such small unit cells."
   ]
  },
  {
   "cell_type": "markdown",
   "metadata": {
    "cell_id": "19cb83f62d5c4345a9fb35edf976bf73",
    "deepnote_cell_height": 365.96875,
    "deepnote_cell_type": "markdown"
   },
   "source": [
    "The crystal structure of Cu is face centered cubic, and ASE provides convenient constructors which assume periodic boundary conditions, unless instructed otherwise:"
   ]
  },
  {
   "cell_type": "code",
   "execution_count": 70,
   "metadata": {
    "cell_id": "2c08e93838944b21baf8b49e513261e7",
    "deepnote_cell_height": 84,
    "deepnote_cell_type": "code",
    "output_cleared": false
   },
   "outputs": [],
   "source": [
    "from ase.build import bulk\n",
    "cu = bulk(\"Cu\", \"fcc\", a=3.6, cubic=True)"
   ]
  },
  {
   "cell_type": "markdown",
   "metadata": {
    "cell_id": "140fe167cf194d1eafab98744f24ea9f",
    "deepnote_cell_height": 70,
    "deepnote_cell_type": "markdown"
   },
   "source": [
    "![cu](./files/cu.png)"
   ]
  },
  {
   "cell_type": "markdown",
   "metadata": {
    "cell_id": "724155f29e294c52b9b5719efae4839d",
    "deepnote_cell_height": 1759.671875,
    "deepnote_cell_type": "markdown"
   },
   "source": [
    "Although the smallest possible unit cell of an fcc crystal contains just one atom, it is often more convenient to work with the \"cubic unit cell\" which contains 4 atoms, but whose lattice vectors (which represent the displacements that correspond to the periodically repeating units) are just the sides of a cube, i.e. orthogonal and correspond to the x, y, and z axes. The size of the lattice vectors determine the volume of the unit cell and the corresponding density of material modelled. \n",
    "\n",
    "The fcc crystal you have seen before probably show an atom in each face of the cubic unit cell - but many of those are repeated periodic images of the ones shown above!\n",
    "\n",
    "In ASE, the lattice vectors are stored, side-by-side, collected together in a 3x3 matrix called _cell_. So, the first column is the first lattice vector ($L_1$), the second column is the second lattice vector($L_2$), and the third column is the third lattice vector ($L_3$).\n",
    "\n",
    "$$\n",
    "\\left[ \\begin{matrix} L_{1x} &L_{2x} &L_{3x}\\\\ L_{1y} &L_{2y}&L_{3y}\\\\ L_{1z} &L_{2z}&L_{3z} \\end{matrix}\\right]\n",
    "$$"
   ]
  },
  {
   "cell_type": "code",
   "execution_count": 71,
   "metadata": {
    "cell_id": "09851d1b7a7b48398e5a152c48f712be",
    "deepnote_cell_height": 113,
    "deepnote_cell_type": "code",
    "deepnote_output_heights": [
     20.1875
    ],
    "output_cleared": false,
    "tags": []
   },
   "outputs": [
    {
     "data": {
      "text/plain": [
       "Cell([3.6, 3.6, 3.6])"
      ]
     },
     "execution_count": 71,
     "metadata": {},
     "output_type": "execute_result"
    }
   ],
   "source": [
    "cu.cell"
   ]
  },
  {
   "cell_type": "markdown",
   "metadata": {
    "cell_id": "6a9283202175406fabaec9281110519f",
    "deepnote_cell_height": 209.1875,
    "deepnote_cell_type": "markdown",
    "tags": []
   },
   "source": [
    "This returned a \"Cell object\", if we want to see the actual cell vectors, we need to convert it to an array."
   ]
  },
  {
   "cell_type": "code",
   "execution_count": 72,
   "metadata": {
    "cell_id": "569b5e6aa9ea496f8eb4c11f57ff0db9",
    "deepnote_cell_height": 157,
    "deepnote_cell_type": "code",
    "deepnote_output_heights": [
     58.578125
    ],
    "output_cleared": false
   },
   "outputs": [
    {
     "data": {
      "text/plain": [
       "array([[3.6, 0. , 0. ],\n",
       "       [0. , 3.6, 0. ],\n",
       "       [0. , 0. , 3.6]])"
      ]
     },
     "execution_count": 72,
     "metadata": {},
     "output_type": "execute_result"
    }
   ],
   "source": [
    "np.array(cu.cell)"
   ]
  },
  {
   "cell_type": "markdown",
   "metadata": {
    "cell_id": "27f05c1dd46348f69f6bddbc66654308",
    "deepnote_cell_height": 298.78125,
    "deepnote_cell_type": "markdown"
   },
   "source": [
    "There are indeed 4 atoms in this unit cell, with positions corresponding to the origin, and the centers of the sides of the unit cube on the YZ, ZX and XY planes:"
   ]
  },
  {
   "cell_type": "code",
   "execution_count": 73,
   "metadata": {
    "cell_id": "6f58be5c80bf4990b4f48a58499e4061",
    "deepnote_cell_height": 176,
    "deepnote_cell_type": "code",
    "deepnote_output_heights": [
     77.78125
    ],
    "output_cleared": false
   },
   "outputs": [
    {
     "data": {
      "text/plain": [
       "array([[0. , 0. , 0. ],\n",
       "       [0. , 1.8, 1.8],\n",
       "       [1.8, 0. , 1.8],\n",
       "       [1.8, 1.8, 0. ]])"
      ]
     },
     "execution_count": 73,
     "metadata": {},
     "output_type": "execute_result"
    }
   ],
   "source": [
    "cu.get_positions()"
   ]
  },
  {
   "cell_type": "markdown",
   "metadata": {
    "cell_id": "f804c4b9dabc4441b2099a13ef11228f",
    "deepnote_cell_height": 791.546875,
    "deepnote_cell_type": "markdown"
   },
   "source": [
    "Verify that the periodic boundary conditions are implemented correctly by evaluating the potential energy of the unit cell, and comparing the potential energy per atom to that of a larger cell, which is obtained by replicating the original twice in each of the three directions. Since both smaller and larger cells represent an infinite, periodic array of copper atoms, the potential energy per atom should be the same. "
   ]
  },
  {
   "cell_type": "code",
   "execution_count": 74,
   "metadata": {
    "cell_id": "53799224ca7941da86a45f8d827c0606",
    "deepnote_cell_height": 171.890625,
    "deepnote_cell_type": "code",
    "output_cleared": false
   },
   "outputs": [
    {
     "name": "stdout",
     "output_type": "stream",
     "text": [
      "Number of atoms:  4\n",
      "Potential energy per atom:  -1.1699071927299534\n"
     ]
    }
   ],
   "source": [
    "cu.set_calculator(calc)\n",
    "print(\"Number of atoms: \", cu.get_global_number_of_atoms())\n",
    "print(\"Potential energy per atom: \", cu.get_potential_energy()/cu.get_global_number_of_atoms())"
   ]
  },
  {
   "cell_type": "code",
   "execution_count": 76,
   "metadata": {
    "cell_id": "07ff301043d84858889f31c544b6e1ae",
    "deepnote_cell_height": 207.890625,
    "deepnote_cell_type": "code",
    "output_cleared": false
   },
   "outputs": [
    {
     "name": "stdout",
     "output_type": "stream",
     "text": [
      "Number of atoms:  32\n",
      "Potential energy per atom:  -1.1699071927299536\n"
     ]
    },
    {
     "name": "stderr",
     "output_type": "stream",
     "text": [
      "/var/folders/vx/q4zdshxx76s16t5qysx3dh200000gn/T/ipykernel_37875/4124963171.py:3: DeprecationWarning: `product` is deprecated as of NumPy 1.25.0, and will be removed in NumPy 2.0. Please use `prod` instead.\n",
      "  cu222 *= (2,2,2)         # replicating the unit cell is accomplished by the multiplying operator\n"
     ]
    }
   ],
   "source": [
    "cu222 = cu.copy()        # creating a copy of an Atoms object\n",
    "cu222.set_calculator(calc) # copying DOES NOT bring the attached calculator, so we need to set it again\n",
    "cu222 *= (2,2,2)         # replicating the unit cell is accomplished by the multiplying operator\n",
    "print(\"Number of atoms: \", cu222.get_global_number_of_atoms())\n",
    "print(\"Potential energy per atom: \", cu222.get_potential_energy()/cu222.get_global_number_of_atoms())"
   ]
  },
  {
   "cell_type": "markdown",
   "metadata": {
    "cell_id": "ef850de3513d4b8c8ed8fe9388382983",
    "deepnote_cell_height": 70,
    "deepnote_cell_type": "markdown"
   },
   "source": [
    "![cu222](./files/cu222.png)"
   ]
  },
  {
   "cell_type": "markdown",
   "metadata": {
    "cell_id": "df6590b9f73d41d09de5c18e0526bc13",
    "deepnote_cell_height": 253.984375,
    "deepnote_cell_type": "markdown"
   },
   "source": [
    "Strain can be applied to the system by modifying (distorting) the unit cell appropriately. E.g. to apply 1% hydrostatic compression:"
   ]
  },
  {
   "cell_type": "code",
   "execution_count": 77,
   "metadata": {
    "cell_id": "57f1742f2bf34b7ab24424718b9156a5",
    "deepnote_cell_height": 172,
    "deepnote_cell_type": "code",
    "deepnote_output_heights": [
     20.1875
    ],
    "output_cleared": false
   },
   "outputs": [
    {
     "data": {
      "text/plain": [
       "Cell([3.564, 3.564, 3.564])"
      ]
     },
     "execution_count": 77,
     "metadata": {},
     "output_type": "execute_result"
    }
   ],
   "source": [
    "cell = cu.get_cell()\n",
    "cell *= 0.99\n",
    "cu.set_cell(cell, scale_atoms=True) # To apply strain, the atomic positions need to be scaled together with the unit cell \n",
    "cu.get_cell()"
   ]
  },
  {
   "cell_type": "code",
   "execution_count": 78,
   "metadata": {
    "cell_id": "f4e9c752fad446a0b793bf72ae072913",
    "deepnote_cell_height": 118,
    "deepnote_cell_type": "code",
    "deepnote_output_heights": [
     20.1875
    ],
    "output_cleared": false
   },
   "outputs": [
    {
     "name": "stderr",
     "output_type": "stream",
     "text": [
      "/Users/kelios/opt/anaconda3/envs/camM3/lib/python3.11/site-packages/ase/atoms.py:967: VisibleDeprecationWarning: Use get_global_number_of_atoms() instead\n",
      "  warnings.warn('Use get_global_number_of_atoms() instead',\n"
     ]
    },
    {
     "data": {
      "text/plain": [
       "-1.1657718984261178"
      ]
     },
     "execution_count": 78,
     "metadata": {},
     "output_type": "execute_result"
    }
   ],
   "source": [
    "cu.get_potential_energy()/cu.get_number_of_atoms()"
   ]
  },
  {
   "cell_type": "markdown",
   "metadata": {
    "cell_id": "a2cb01eca56a4c31b46e6e3250d8e88c",
    "deepnote_cell_height": 231.578125,
    "deepnote_cell_type": "markdown"
   },
   "source": [
    "The stress on the system is given as a matrix, here we get it as a 3x3 matrix (ASE's default is to provide it in [Voigt notation](https://en.wikipedia.org/wiki/Voigt_notation))"
   ]
  },
  {
   "cell_type": "code",
   "execution_count": 79,
   "metadata": {
    "cell_id": "76e7e61a4610419fa5cdc7636fd3798e",
    "deepnote_cell_height": 157,
    "deepnote_cell_type": "code",
    "deepnote_output_heights": [
     58.578125
    ],
    "output_cleared": false
   },
   "outputs": [
    {
     "name": "stderr",
     "output_type": "stream",
     "text": [
      "/Users/kelios/opt/anaconda3/envs/camM3/lib/python3.11/site-packages/ase/utils/__init__.py:62: FutureWarning: Please use atoms.cell.rank instead\n",
      "  warnings.warn(warning)\n"
     ]
    },
    {
     "data": {
      "text/plain": [
       "array([[-2.33782806e-02,  2.45243296e-18, -9.19662359e-19],\n",
       "       [ 2.45243296e-18, -2.33782806e-02, -2.29915590e-19],\n",
       "       [-9.19662359e-19, -2.29915590e-19, -2.33782806e-02]])"
      ]
     },
     "execution_count": 79,
     "metadata": {},
     "output_type": "execute_result"
    }
   ],
   "source": [
    "cu.get_stress(voigt=False)"
   ]
  },
  {
   "cell_type": "markdown",
   "metadata": {
    "cell_id": "0c7ca33622cf4090bfebd14121cbfd0c",
    "deepnote_cell_height": 813.9375,
    "deepnote_cell_type": "markdown"
   },
   "source": [
    "The stress, analogously to the force, is the derivative of the energy with respect to the unit cell vectors (or more precisely, with respect to the deformation strain applied to the unit cell vectors). Note how the off-diagonal elements of the stress matrix above are essentially zero and the diagonal elements are the same, i.e. the stress is the same in the X, Y, and Z directions, corresponding to the 1% hydrostatic compression that we applied above. "
   ]
  },
  {
   "cell_type": "markdown",
   "metadata": {
    "cell_id": "549805928a104b3784c6818c69010683",
    "deepnote_cell_height": 2029.46875,
    "deepnote_cell_type": "markdown"
   },
   "source": [
    "### Deliverable 3\n",
    "\n",
    "1. __Write a program that calculates and plots the potential energy and pressure (P) of the copper crystal as a function of volume by applying varying amounts of hydrostatic strain.__\n",
    "2. __Calculate the [bulk modulus](https://en.wikipedia.org/wiki/Bulk_modulus) at the equilibrium volume. Compare it to the experimental value.__\n",
    "\n",
    "Hints:\n",
    "\n",
    "- Make sure you use a sensible range of strains, think about what would be reasonable in a real experiment\n",
    "- For the plot, use both compressive and tensile strains. Make sure you plot against the volume, not against the strain itself.\n",
    "- Remember that $K = -V dP/dV$ where $V$ is the volume, and that the pressure is related to the trace of the stress matrix (S), $P = - \\frac{1}{3} \\text{Tr}(S)$.\n",
    "- Do not forget that energy and volume are extensive, so it is best to work with the per-atom quantities.\n",
    "- Do not be surprised that you only get within the experimental value within 20% or so. \n",
    "- The experimental value for Bulk modulus is around 130 - 145 GPa. "
   ]
  },
  {
   "cell_type": "code",
   "execution_count": 98,
   "metadata": {
    "cell_id": "a132a7537f334ec8969d53f134277a36",
    "deepnote_cell_height": 264,
    "deepnote_cell_type": "code",
    "output_cleared": true
   },
   "outputs": [
    {
     "data": {
      "image/png": "[encoded data removed]",
      "text/plain": [
       "<Figure size 640x480 with 2 Axes>"
      ]
     },
     "metadata": {},
     "output_type": "display_data"
    },
    {
     "name": "stdout",
     "output_type": "stream",
     "text": [
      "equilibrium_volume:  46.740880512865495\n",
      "Bulk modulus unaccurately:  103.7404926361173 GPa\n",
      "Bulk modulus accurately:  103.60828730416183 GPa\n"
     ]
    },
    {
     "data": {
      "text/plain": [
       "<Axes: title={'center': 'birchmurnaghan: E: -4.680 eV, V: 46.763 Å$^3$, B: 103.608 GPa'}, xlabel='volume [Å$^3$]', ylabel='energy [eV]'>"
      ]
     },
     "execution_count": 98,
     "metadata": {},
     "output_type": "execute_result"
    },
    {
     "data": {
      "image/png": "[encoded data removed]",
      "text/plain": [
       "<Figure size 640x480 with 1 Axes>"
      ]
     },
     "metadata": {},
     "output_type": "display_data"
    }
   ],
   "source": [
    "# Those who browse the documentation of ASE can discover that it has functionality to fit the equation of state\n",
    "# and extract parameters using more accurate methods. Compare your result above to those computed by ASE. \n",
    "\n",
    "# The call below takes two arrays: the variable V is an array of volumes/atom and E\n",
    "# is an array of corresponding potential energy values, again per atom. If you want to execute this\n",
    "# notebook cell, you will need to substitute your own arrays for V and E.\n",
    "from ase.eos import EquationOfState\n",
    "from ase.units import kJ\n",
    "\n",
    "from ase.build import bulk\n",
    "cu = bulk(\"Cu\", \"fcc\", a=3.6, cubic=True)\n",
    "energy = np.array([])\n",
    "pressure = np.array([])\n",
    "volume = np.array([])\n",
    "\n",
    "cu.set_calculator(calc)\n",
    "cell = cu.get_cell()\n",
    "hydro_strain = np.linspace(0.98, 1.02, 100)\n",
    "for i in hydro_strain:\n",
    "    cell2 = cell * i\n",
    "    cu.set_cell(cell2, scale_atoms=True) # To apply strain, the atomic positions need to be scaled together with the unit cell \n",
    "    energy = np.append(energy, cu.get_potential_energy())\n",
    "    pressure = np.append(pressure, -1/3*np.trace(cu.get_stress(voigt=False)))\n",
    "    volume = np.append(volume, cu.get_volume())\n",
    "\n",
    "plt.subplot(1, 3, 1)\n",
    "plt.plot(volume, energy)\n",
    "plt.xlabel('Volume')\n",
    "plt.ylabel('Energy')\n",
    "plt.grid()\n",
    "\n",
    "plt.subplot(1, 3, 3)\n",
    "plt.plot(volume, pressure)\n",
    "plt.xlabel('Volume')\n",
    "plt.ylabel('Pressure')\n",
    "plt.grid()\n",
    "\n",
    "plt.show()\n",
    "\n",
    "equilibrium_volume = volume[np.argmin(energy)]\n",
    "print(\"equilibrium_volume: \", equilibrium_volume)\n",
    "dP_dV = (pressure[np.argmin(energy)+1] - pressure[np.argmin(energy)]) / (volume[np.argmin(energy)+1] - volume[np.argmin(energy)])\n",
    "bulk_modulus = -equilibrium_volume * np.mean(dP_dV)\n",
    "print(\"Bulk modulus unaccurately: \", bulk_modulus / GPa, 'GPa')\n",
    "\n",
    "V = volume\n",
    "E = energy\n",
    "eos = EquationOfState(V, E, eos=\"birchmurnaghan\") # Birch-Murnaghan is a particular functional form fitted to the equation of state\n",
    "v0, e0, B = eos.fit()\n",
    "print('Bulk modulus accurately: ', B / kJ * 1.0e24, 'GPa')\n",
    "eos.plot()"
   ]
  },
  {
   "cell_type": "markdown",
   "metadata": {
    "cell_id": "d3175cc3d575444f91cfb7043726df55",
    "deepnote_cell_height": 3995.71875,
    "deepnote_cell_type": "markdown"
   },
   "source": [
    "### Task and Deliverable 4 \n",
    "\n",
    "1. __Write a program to compute the [shear modulus](https://en.wikipedia.org/wiki/Shear_modulus).__\n",
    "\n",
    "Hint: You can apply a shear in the XY plane by modifying the X component of the lattice vector that points originally in the Y direction, i.e. $L_{2x}$. Apply _small_ amounts of shear, i.e. a few percent. Starting with a cubic cell with side lengths L, new cell matrix, after applying 1% shear in the XY plane, would be given by\n",
    "\n",
    "$$\n",
    "\\left[\\begin{matrix}\n",
    "L & 0.01L & 0\\\\0&L&0\\\\ 0&0&L\n",
    "\\end{matrix}\\right]\n",
    "$$\n",
    "\n",
    "Just as before, in the hydrostatic case, after applying the shear strain in this way, you can get the corresponding (shear) stress simply by calling the ```get_stress()``` function. Observe which components of the stress matrix is nonzero, and think about which one you need to work out the shear modulus. \n",
    "\n",
    "The computed shear modulus of this model deviates from the experimental value by quite a bit more than the bulk modulus - this is typical for such simple models. \n",
    "\n",
    "2. __Write a program to determine the [Poisson ratio](https://en.wikipedia.org/wiki/Poisson%27s_ratio)__\n",
    "\n",
    "Hint: Recall that if the system is strained in the X direction by a normal strain (not shear), the resulting stress will not be purely in the X direction, but in addition to the stress in X there will be stress in the Y and Z directions also. If you now strain the system in an _equibiaxial_ way, so some amount of strain in X, and equal amounts in Y and Z, that is different from the strain in X, the Poisson ratio is the ratio of X and Y(and Z) strains that lead to no stress in the Y (and Z) directions. \n",
    "\n",
    "- Think about the sign of the X strain and the Y(and Z) strains.\n",
    "- Make sure you use a sensible range of strains. \n",
    "- The Poisson ratio depends very sensitively on the starting volume, so make sure you use the unit cell size that corresponds to the lowest energy, accurate to at least 4 decimal places. \n",
    "- You should get a computed value that is within 10% of the experimentally observed one. \n",
    "- The experimental value for Poisson ratio is around 0.34 - 0.36 and around 44 - 49 GPa for the Shear modulus. \n",
    "- Note that ASE results the mathematical shear strain ($\\varepsilon$), not the engineering shear strain ($\\gamma$).\n"
   ]
  },
  {
   "cell_type": "markdown",
   "metadata": {
    "cell_id": "b0185bb954744936b704a65a52ad3869",
    "deepnote_cell_height": 2545.625,
    "deepnote_cell_type": "markdown"
   },
   "source": [
    "#### Comparison to experiment\n",
    "\n",
    "You will note that there are significant discrepancies from the experimental values of the elastic properties. Some of this is due to the simplicity of the Morse potential, but not all of it. \n",
    "\n",
    "- The simple calculations you did apply to a \"single crystal\" of the material, where we assume that the entire extent of the material is just periodic copies of the same unit cell. In reality a typical piece of copper would have many grains, each of which are single crystals, but they are oriented randomly, so anything you measure on the sample is a rotationally averaged quantity. \n",
    "- It turns out that the elastic properties do depend on the orientation, so our single crystal model behaves quite differently from a rotationally averaged system.\n",
    "- For example, the simple relationship that you know between the bulk modulus, shear modulus and the Poisson ratio only holds for isotropic materials (so including polycrystalline materials, because of the rotational averaging), and we don't expect it to hold for the single crystal.\n",
    "- What is the deviation of the above results from the simple relationship between the three elastic properties? Which is the one that is most different from the experimental polycrystalline value? "
   ]
  },
  {
   "cell_type": "code",
   "execution_count": 58,
   "metadata": {},
   "outputs": [
    {
     "name": "stdout",
     "output_type": "stream",
     "text": [
      "86.50892203444815\n"
     ]
    }
   ],
   "source": [
    "from ase.build import bulk\n",
    "cu = bulk(\"Cu\", \"fcc\", a=3.6, cubic=True)\n",
    "cu.set_calculator(calc)\n",
    "cell = cu.get_cell()\n",
    "cell[0, 1] = cell[0, 0] * 0.01\n",
    "cu.set_cell(cell, scale_atoms=False)\n",
    "stress = cu.get_stress(voigt=False)\n",
    "mod = stress[0, 1] / 0.01 / GPa\n",
    "print(mod)"
   ]
  },
  {
   "cell_type": "code",
   "execution_count": 95,
   "metadata": {},
   "outputs": [
    {
     "name": "stdout",
     "output_type": "stream",
     "text": [
      "0.35479797979797983\n"
     ]
    }
   ],
   "source": [
    "from ase.build import bulk\n",
    "cu = bulk(\"Cu\", \"fcc\", a=(46.74)**(1/3), cubic=True)\n",
    "cu.set_calculator(calc)\n",
    "ratio = np.linspace(5e-6, 4e-5, 100)\n",
    "min_syz = 1\n",
    "min_ratio = 1\n",
    "cell = cu.get_cell()\n",
    "cell[0] = cell[0] * (1+4e-5)\n",
    "for i in ratio:\n",
    "    cell2 = cell\n",
    "    cell2[1] = cell2[1] * (1+i)\n",
    "    cell2[2] = cell2[2] * (1+i)\n",
    "    cu.set_cell(cell2, scale_atoms=True)\n",
    "    s = cu.get_stress(voigt=False)\n",
    "    if abs(s[1, 1]) < min_syz:\n",
    "        min_syz = abs(s[1, 1])\n",
    "        min_ratio = i\n",
    "\n",
    "print(min_ratio / 4e-5)"
   ]
  },
  {
   "cell_type": "markdown",
   "metadata": {
    "cell_id": "602ce88ccf724dcdb18f974a2b14f639",
    "deepnote_cell_height": 214,
    "deepnote_cell_type": "markdown"
   },
   "source": [
    "### Deliverable 5: Tension experiment with a notch\n",
    "\n",
    "![bar](./files/bar_annotated.png)"
   ]
  },
  {
   "cell_type": "markdown",
   "metadata": {
    "cell_id": "cbb3f8e306b4484596bd62f66c25fbe8",
    "deepnote_cell_height": 3552.359375,
    "deepnote_cell_type": "markdown"
   },
   "source": [
    "\n",
    "The same model can be used for simulation of more complex, larger scale geometries, e.g. the the situation shown below, which shows a slab with notch being pulled from at the top and bottom. In order to speed up the computation, we employ periodic boundary conditions in one of the directions (Z) that is perpendicular to the direction that you will apply the strain along (X). The atoms are coloured according to their energy (blue is lowest, red is highest, green is in between). As the load is applied, instead of following the evolution of the atomic positions in time, we optimise the positions to find the lowest energy state corresponding to each particular applied strain. This can be accomplished much more quickly using sophisticated optimisation techniques (which you might learn more about in Part IIA), rather than by integrating forward the equations of motion for the atoms.\n",
    "\n",
    "Please write out answers to the following questions (bulletpoints are accepted):\n",
    "\n",
    "1. __Take a look at the [animation](https://deepnote.com/project/02a51db6-fc97-4151-b517-6482c8fdf794#%2FMorse2d_video.mp4) and identify the dislocations that are nucleating.__<br>\n",
    "(If the link doesn't work, download the file directly from the same directory this notebook is in [see top right folder icon])\n",
    "\n",
    "2. __Describe what happens to the dislocation subsequent to nucleation: how do the dislocations and free surfaces interact? What happens to the dislocations that reach the fixed part of the bar that corresponds to the \"grips\" in the experiment?__ \n",
    "3. __What happens to the notch?__\n",
    "\n",
    "*Note that you have observed only one kind of process, dislocation nucleation and glide. In a real material, or a more realistic model, there will be many different kinds of plastic processes. Some take more time than what you are able to simulate, some need preexisting flaws to start, some need multiple crystal grains and the grain boundaries between them, some need a more realistic length scale to be modelled.*\n"
   ]
  },
  {
   "cell_type": "markdown",
   "metadata": {},
   "source": [
    "- nucleating dislocations: at the inner ends of two notches\n",
    "- Nucleating dislocations from one inner end of a notch first move through the crystal lattice. When they reach the free surfaces, they change their moving direction and start move towards the inner end of another notch, and repeat their motion in random directions. When they reach the fixed part of the bar, they seem to become pinned at the fixed boundary, while changing the shape of the edge.\n",
    "- The notch is fatter and deeper."
   ]
  },
  {
   "cell_type": "markdown",
   "metadata": {
    "cell_id": "d2656bd06c764973abf742e820ec6b45",
    "deepnote_cell_height": 97.1875,
    "deepnote_cell_type": "markdown"
   },
   "source": [
    "--- *end of laboratory exercise* ---"
   ]
  },
  {
   "cell_type": "markdown",
   "metadata": {
    "cell_id": "da971034f6904b1fa6b70df1feb80762",
    "deepnote_cell_height": 1709.484375,
    "deepnote_cell_type": "markdown",
    "jp-MarkdownHeadingCollapsed": true
   },
   "source": [
    "## Optional extensions\n",
    "\n",
    "You are also supplied an [example program](files/run_cu_bar_notch_2d_qs.py) which creates an atomistic model representing a notched bar and runs the simulation that produced the above animation. You can run the program yourself, and in order to visualize the output trajectory of the atoms, download and install [Ovito](https://ovito.org), an atomistic visualisation tool. In Ovito you can open the trajectory file that is produced (ending with ```.xyz```), then you will need to check the \"File contains multiple timesteps\" checkbox on the right under the \"XYZ File\" heading, so that the animation controls to activate. The best way to see where deformation takes place is to colour the atoms according to their atomic energy, you can accomplish this by clicking on \"Add Modification\" in the top right panel, selecting \"Color coding\", and then selecting the \"Potential energy\" property from the dropdown menu, then click on \"Adjust range\"."
   ]
  },
  {
   "cell_type": "markdown",
   "metadata": {
    "cell_id": "0b8ee13f4a294ca3af51c2c9f89be9c7",
    "deepnote_cell_height": 612.359375,
    "deepnote_cell_type": "markdown"
   },
   "source": [
    "_Note: the simulation with the default parameters can take several hours to run, depending on the speed of your computer, but you can visualise the trajectory while it is being generated. Clicking the \"Reload animation frames\" button under the \"External data sources\" tab loads the most recent version of the trajectory file into Ovito._"
   ]
  },
  {
   "cell_type": "markdown",
   "metadata": {
    "cell_id": "4f5c65be864b4c6c951e58fd5f0ba81e",
    "deepnote_cell_height": 1357.109375,
    "deepnote_cell_type": "markdown"
   },
   "source": [
    "\n",
    "__Change the simulation to alter the width and/or length of the initial notch, and run the simulation again. How does the critical strain change?__\n",
    "\n",
    "__Modify the program to create an empty void in the middle of the bar (which is another typical flaw found in metals), instead of the two notches. Observe the evolution of the shape of the bar and the void during the tension experiment. What happens to the volume of the void?__\n",
    "\n",
    "__Inspect the code to figure out how constraints are applied to the system (there is also documentation of this on the ASE homepage), and use it to model an inclusion in the middle of system by a block of rigid atoms whose positions are fixed throughout the simulation. How does this affect the dislocations?__"
   ]
  },
  {
   "cell_type": "markdown",
   "metadata": {
    "cell_id": "a678ba7abf02421b86f0dd2246a31c2c",
    "collapsed": true,
    "deepnote_cell_height": 2082.25,
    "deepnote_cell_type": "markdown",
    "jupyter": {
     "outputs_hidden": true
    }
   },
   "source": [
    "\n",
    "If you want to how a non-metal behaves under the same conditions, and you manage to install the [QUIP and quippy packages](https://github.com/libatoms/quip) (tested on MacOS and Linux), then you can run this [modified program](./files/run_si_bar_notch_2d_qs.py) that simulates the tension experiment on a model of silicon, rather than copper, leading to qualitatively different results... \n",
    "\n",
    "The above simulations neglected the effect of temperature: only those processes happenned that were not hampered by an energy barrier. There are many small energy barriers in this system, and at finite temperature, given enough time, the system overcomes those barriers. You can simulate this effect by writing a program that integrates Newton's law of motion for the atoms using the velocity-Verlet algorithm and the forces on the atoms returned by the atomistic model. This is called *molecular dynamics*. Because atoms are light and the forces on the large, you need to use a time step on the order of 1 fs ($10^{-15}$ seconds, but be careful about the units of the atomic positions and the forces returned by ASE). In order to see something happenning in a reasonable time, it helps if you try rather high temperature!"
   ]
  },
  {
   "cell_type": "code",
   "execution_count": null,
   "metadata": {
    "cell_id": "728cf61ca6b346bab3f00c11e86d9bee",
    "collapsed": true,
    "deepnote_cell_height": 61,
    "deepnote_cell_type": "code",
    "jupyter": {
     "outputs_hidden": true
    }
   },
   "outputs": [],
   "source": []
  },
  {
   "cell_type": "markdown",
   "metadata": {
    "created_in_deepnote_cell": true,
    "deepnote_cell_type": "markdown"
   },
   "source": [
    "<a style='text-decoration:none;line-height:16px;display:flex;color:#5B5B62;padding:10px;justify-content:end;' href='https://deepnote.com?utm_source=created-in-deepnote-cell&projectId=54f6687e-c821-4fca-99b1-369a470c00d4' target=\"_blank\">\n",
    "<img alt='Created in deepnote.com' style='display:inline;max-height:16px;margin:0px;margin-right:7.5px;' src='data:image/svg+xml;base64,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' > </img>\n",
    "Created in <span style='font-weight:600;margin-left:4px;'>Deepnote</span></a>"
   ]
  }
 ],
 "metadata": {
  "deepnote": {},
  "deepnote_execution_queue": [],
  "deepnote_notebook_id": "e3da4785247842c1ad28181f52dd5d77",
  "kernelspec": {
   "display_name": "Python 3 (ipykernel)",
   "language": "python",
   "name": "python3"
  },
  "language_info": {
   "codemirror_mode": {
    "name": "ipython",
    "version": 3
   },
   "file_extension": ".py",
   "mimetype": "text/x-python",
   "name": "python",
   "nbconvert_exporter": "python",
   "pygments_lexer": "ipython3",
   "version": "3.11.6"
  }
 },
 "nbformat": 4,
 "nbformat_minor": 4
}
